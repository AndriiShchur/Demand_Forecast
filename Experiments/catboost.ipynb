{
 "metadata": {
  "language_info": {
   "codemirror_mode": {
    "name": "ipython",
    "version": 3
   },
   "file_extension": ".py",
   "mimetype": "text/x-python",
   "name": "python",
   "nbconvert_exporter": "python",
   "pygments_lexer": "ipython3",
   "version": "3.8.8-final"
  },
  "orig_nbformat": 2,
  "kernelspec": {
   "name": "python3",
   "display_name": "Python 3",
   "language": "python"
  }
 },
 "nbformat": 4,
 "nbformat_minor": 2,
 "cells": [
  {
   "cell_type": "code",
   "execution_count": 1,
   "metadata": {},
   "outputs": [],
   "source": [
    "import numpy as np\n",
    "import pandas as pd\n",
    "\n",
    "from catboost import CatBoostRegressor\n",
    "from sklearn import preprocessing\n",
    "\n",
    "import time\n",
    "import sys\n",
    "import gc\n",
    "import pickle"
   ]
  },
  {
   "cell_type": "code",
   "execution_count": 2,
   "metadata": {},
   "outputs": [],
   "source": [
    "# Read data\n",
    "data = pd.read_pickle(r'D:\\Project\\Pet_Project\\Demand_Forecast\\Data\\data.pkl')\n",
    "\n",
    "test = pd.read_pickle(r'D:\\Project\\Pet_Project\\Demand_Forecast\\Data\\test.pkl')"
   ]
  },
  {
   "cell_type": "code",
   "execution_count": 3,
   "metadata": {},
   "outputs": [
    {
     "output_type": "execute_result",
     "data": {
      "text/plain": [
       "Index(['date_block_num', 'shop_id', 'item_id', 'item_cnt_month', 'city_code',\n",
       "       'shop_category', 'item_category_id', 'type_code', 'subtype_code',\n",
       "       'item_cnt_month_lag_1', 'item_cnt_month_lag_2', 'item_cnt_month_lag_3',\n",
       "       'item_cnt_month_lag_4', 'item_cnt_month_lag_5', 'item_cnt_month_lag_6',\n",
       "       'item_cnt_month_lag_12', 'date_avg_item_cnt_lag_1',\n",
       "       'date_item_avg_item_cnt_lag_1', 'date_item_avg_item_cnt_lag_2',\n",
       "       'date_item_avg_item_cnt_lag_3', 'date_item_avg_item_cnt_lag_6',\n",
       "       'date_item_avg_item_cnt_lag_12', 'date_shop_avg_item_cnt_lag_1',\n",
       "       'date_shop_avg_item_cnt_lag_2', 'date_shop_avg_item_cnt_lag_3',\n",
       "       'date_shop_avg_item_cnt_lag_6', 'date_shop_avg_item_cnt_lag_12',\n",
       "       'date_cat_avg_item_cnt_lag_1', 'date_shop_cat_avg_item_cnt_lag_1',\n",
       "       'date_shop_type_avg_item_cnt_lag_1',\n",
       "       'date_shop_subtype_avg_item_cnt_lag_1', 'date_city_avg_item_cnt_lag_1',\n",
       "       'date_item_city_avg_item_cnt_lag_1', 'date_type_avg_item_cnt_lag_1',\n",
       "       'date_subtype_avg_item_cnt_lag_1',\n",
       "       'date_item_shop_category_avg_item_cnt_lag_1', 'delta_price_lag',\n",
       "       'delta_revenue_lag_1', 'month', 'days', 'item_shop_last_sale',\n",
       "       'item_last_sale', 'item_shop_first_sale', 'item_first_sale'],\n",
       "      dtype='object')"
      ]
     },
     "metadata": {},
     "execution_count": 3
    }
   ],
   "source": [
    "data.columns"
   ]
  },
  {
   "cell_type": "code",
   "execution_count": 4,
   "metadata": {},
   "outputs": [
    {
     "output_type": "stream",
     "name": "stdout",
     "text": [
      "<class 'pandas.core.frame.DataFrame'>\nInt64Index: 6639294 entries, 4488756 to 11128049\nData columns (total 44 columns):\n #   Column                                      Dtype  \n---  ------                                      -----  \n 0   date_block_num                              int8   \n 1   shop_id                                     object \n 2   item_id                                     object \n 3   item_cnt_month                              float32\n 4   city_code                                   object \n 5   shop_category                               object \n 6   item_category_id                            object \n 7   type_code                                   object \n 8   subtype_code                                object \n 9   item_cnt_month_lag_1                        float32\n 10  item_cnt_month_lag_2                        float32\n 11  item_cnt_month_lag_3                        float32\n 12  item_cnt_month_lag_4                        float32\n 13  item_cnt_month_lag_5                        float32\n 14  item_cnt_month_lag_6                        float32\n 15  item_cnt_month_lag_12                       float32\n 16  date_avg_item_cnt_lag_1                     float32\n 17  date_item_avg_item_cnt_lag_1                float32\n 18  date_item_avg_item_cnt_lag_2                float32\n 19  date_item_avg_item_cnt_lag_3                float32\n 20  date_item_avg_item_cnt_lag_6                float32\n 21  date_item_avg_item_cnt_lag_12               float32\n 22  date_shop_avg_item_cnt_lag_1                float32\n 23  date_shop_avg_item_cnt_lag_2                float32\n 24  date_shop_avg_item_cnt_lag_3                float32\n 25  date_shop_avg_item_cnt_lag_6                float32\n 26  date_shop_avg_item_cnt_lag_12               float32\n 27  date_cat_avg_item_cnt_lag_1                 float32\n 28  date_shop_cat_avg_item_cnt_lag_1            float32\n 29  date_shop_type_avg_item_cnt_lag_1           float32\n 30  date_shop_subtype_avg_item_cnt_lag_1        float32\n 31  date_city_avg_item_cnt_lag_1                float32\n 32  date_item_city_avg_item_cnt_lag_1           float32\n 33  date_type_avg_item_cnt_lag_1                float32\n 34  date_subtype_avg_item_cnt_lag_1             float32\n 35  date_item_shop_category_avg_item_cnt_lag_1  float32\n 36  delta_price_lag                             float32\n 37  delta_revenue_lag_1                         float32\n 38  month                                       float32\n 39  days                                        float32\n 40  item_shop_last_sale                         float32\n 41  item_last_sale                              float32\n 42  item_shop_first_sale                        float32\n 43  item_first_sale                             float32\ndtypes: float32(36), int8(1), object(7)\nmemory usage: 1.3+ GB\n"
     ]
    }
   ],
   "source": [
    "data['shop_id'] = data['shop_id'].astype(np.str)\n",
    "data['item_id'] = data['item_id'].astype(np.str)\n",
    "data['city_code'] = data['city_code'].astype(np.str)\n",
    "data['shop_category'] = data['shop_category'].astype(np.str)\n",
    "data['item_category_id'] = data['item_category_id'].astype(np.str)\n",
    "data['type_code'] = data['type_code'].astype(np.str)\n",
    "data['subtype_code'] = data['subtype_code'].astype(np.str)\n",
    "\n",
    "data['item_cnt_month'] = data['item_cnt_month'].astype(np.float32)\n",
    "data['item_cnt_month_lag_1'] = data['item_cnt_month_lag_1'].astype(np.float32)\n",
    "data['item_cnt_month_lag_2'] = data['item_cnt_month_lag_2'].astype(np.float32)\n",
    "data['item_cnt_month_lag_3'] = data['item_cnt_month_lag_3'].astype(np.float32)\n",
    "data['item_cnt_month_lag_4'] = data['item_cnt_month_lag_4'].astype(np.float32)\n",
    "data['item_cnt_month_lag_5'] = data['item_cnt_month_lag_5'].astype(np.float32)\n",
    "data['item_cnt_month_lag_6'] = data['item_cnt_month_lag_6'].astype(np.float32)\n",
    "data['item_cnt_month_lag_12'] = data['item_cnt_month_lag_12'].astype(np.float32)\n",
    "data['date_avg_item_cnt_lag_1'] = data['date_avg_item_cnt_lag_1'].astype(np.float32)\n",
    "data['date_item_avg_item_cnt_lag_1'] = data['date_item_avg_item_cnt_lag_1'].astype(np.float32)\n",
    "data['date_item_avg_item_cnt_lag_2'] = data['date_item_avg_item_cnt_lag_2'].astype(np.float32)\n",
    "data['date_item_avg_item_cnt_lag_3'] = data['date_item_avg_item_cnt_lag_3'].astype(np.float32)\n",
    "data['date_item_avg_item_cnt_lag_6'] = data['date_item_avg_item_cnt_lag_6'].astype(np.float32)\n",
    "data['date_item_avg_item_cnt_lag_12'] = data['date_item_avg_item_cnt_lag_12'].astype(np.float32)\n",
    "data['date_shop_avg_item_cnt_lag_1'] = data['date_shop_avg_item_cnt_lag_1'].astype(np.float32)\n",
    "data['date_shop_avg_item_cnt_lag_2'] = data['date_shop_avg_item_cnt_lag_2'].astype(np.float32)\n",
    "data['date_shop_avg_item_cnt_lag_3'] = data['date_shop_avg_item_cnt_lag_3'].astype(np.float32)\n",
    "data['date_shop_avg_item_cnt_lag_6'] = data['date_shop_avg_item_cnt_lag_6'].astype(np.float32)\n",
    "data['date_shop_avg_item_cnt_lag_12'] = data['date_shop_avg_item_cnt_lag_12'].astype(np.float32)\n",
    "data['date_cat_avg_item_cnt_lag_1'] = data['date_cat_avg_item_cnt_lag_1'].astype(np.float32)\n",
    "data['date_shop_cat_avg_item_cnt_lag_1'] = data['date_shop_cat_avg_item_cnt_lag_1'].astype(np.float32)\n",
    "data['date_shop_type_avg_item_cnt_lag_1'] = data['date_shop_type_avg_item_cnt_lag_1'].astype(np.float32)\n",
    "data['date_shop_subtype_avg_item_cnt_lag_1'] = data['date_shop_subtype_avg_item_cnt_lag_1'].astype(np.float32)\n",
    "data['date_city_avg_item_cnt_lag_1'] = data['date_city_avg_item_cnt_lag_1'].astype(np.float32)\n",
    "data['date_item_city_avg_item_cnt_lag_1'] = data['date_item_city_avg_item_cnt_lag_1'].astype(np.float32)\n",
    "data['date_type_avg_item_cnt_lag_1'] = data['date_type_avg_item_cnt_lag_1'].astype(np.float32)\n",
    "data['date_subtype_avg_item_cnt_lag_1'] = data['date_subtype_avg_item_cnt_lag_1'].astype(np.float32)\n",
    "data['date_item_shop_category_avg_item_cnt_lag_1'] = data['date_item_shop_category_avg_item_cnt_lag_1'].astype(np.float32)\n",
    "data['delta_price_lag'] = data['delta_price_lag'].astype(np.float32)\n",
    "data['delta_revenue_lag_1'] = data['delta_revenue_lag_1'].astype(np.float32)\n",
    "\n",
    "data['month'] = data['month'].astype(np.float32)\n",
    "data['days'] = data['days'].astype(np.float32)\n",
    "data['item_shop_last_sale'] = data['item_shop_last_sale'].astype(np.float32)\n",
    "data['item_last_sale'] = data['item_last_sale'].astype(np.float32)\n",
    "data['item_shop_first_sale'] = data['item_shop_first_sale'].astype(np.float32)\n",
    "data['item_first_sale'] = data['item_first_sale'].astype(np.float32)\n",
    "data.info()"
   ]
  },
  {
   "cell_type": "code",
   "execution_count": 5,
   "metadata": {},
   "outputs": [],
   "source": [
    "# Select columns\n",
    "\n",
    "data = data[[\n",
    "    'date_block_num',\n",
    "    'shop_id',\n",
    "    'shop_category',\n",
    "    'item_id',\n",
    "    'item_cnt_month',\n",
    "    'city_code',\n",
    "    'item_category_id',\n",
    "    'type_code',\n",
    "    'subtype_code',\n",
    "    'item_cnt_month_lag_1',\n",
    "    'item_cnt_month_lag_2',\n",
    "    'item_cnt_month_lag_3',\n",
    "    'item_cnt_month_lag_4',\n",
    "    'item_cnt_month_lag_5',\n",
    "    'item_cnt_month_lag_6',\n",
    "    'item_cnt_month_lag_12',\n",
    "    'date_avg_item_cnt_lag_1',\n",
    "    'date_item_avg_item_cnt_lag_1',\n",
    "    'date_item_avg_item_cnt_lag_2',\n",
    "    'date_item_avg_item_cnt_lag_3',\n",
    "    'date_item_avg_item_cnt_lag_6',\n",
    "    'date_item_avg_item_cnt_lag_12',\n",
    "    'date_shop_avg_item_cnt_lag_1',\n",
    "    'date_shop_avg_item_cnt_lag_2',\n",
    "    'date_shop_avg_item_cnt_lag_3',\n",
    "    'date_shop_avg_item_cnt_lag_6',\n",
    "    'date_shop_avg_item_cnt_lag_12',\n",
    "    'date_cat_avg_item_cnt_lag_1',\n",
    "    'date_shop_cat_avg_item_cnt_lag_1',\n",
    "    'date_shop_type_avg_item_cnt_lag_1',\n",
    "    'date_shop_subtype_avg_item_cnt_lag_1',\n",
    "    'date_city_avg_item_cnt_lag_1',\n",
    "    'date_item_city_avg_item_cnt_lag_1',\n",
    "    'date_type_avg_item_cnt_lag_1',\n",
    "    'date_subtype_avg_item_cnt_lag_1',\n",
    "    'delta_price_lag',\n",
    "    'month',\n",
    "    'days',\n",
    "    'item_shop_last_sale',\n",
    "    'item_last_sale',\n",
    "    'item_shop_first_sale',\n",
    "    'item_first_sale',\n",
    "]]"
   ]
  },
  {
   "cell_type": "code",
   "execution_count": 6,
   "metadata": {},
   "outputs": [],
   "source": [
    "# Split data \n",
    "X_train = data[data.date_block_num < 33].drop(['item_cnt_month'], axis=1)\n",
    "Y_train = data[data.date_block_num < 33]['item_cnt_month']\n",
    "X_valid = data[data.date_block_num == 33].drop(['item_cnt_month'], axis=1)\n",
    "Y_valid = data[data.date_block_num == 33]['item_cnt_month']\n",
    "X_test = data[data.date_block_num == 34].drop(['item_cnt_month'], axis=1)"
   ]
  },
  {
   "cell_type": "code",
   "execution_count": 7,
   "metadata": {},
   "outputs": [
    {
     "output_type": "execute_result",
     "data": {
      "text/plain": [
       "         date_block_num shop_id shop_category item_id city_code  \\\n",
       "4488756              12       2             1      27         0   \n",
       "4488757              12       2             1      30         0   \n",
       "4488758              12       2             1      31         0   \n",
       "4488759              12       2             1      32         0   \n",
       "4488760              12       2             1      33         0   \n",
       "\n",
       "        item_category_id type_code subtype_code  item_cnt_month_lag_1  \\\n",
       "4488756               19         5           10                   0.0   \n",
       "4488757               40        11            4                   0.0   \n",
       "4488758               37        11            1                   0.0   \n",
       "4488759               40        11            4                   0.0   \n",
       "4488760               37        11            1                   1.0   \n",
       "\n",
       "         item_cnt_month_lag_2  ...  date_item_city_avg_item_cnt_lag_1  \\\n",
       "4488756                   0.0  ...                                0.0   \n",
       "4488757                   0.0  ...                                0.0   \n",
       "4488758                   0.0  ...                                0.0   \n",
       "4488759                   0.0  ...                                0.0   \n",
       "4488760                   2.0  ...                                1.0   \n",
       "\n",
       "         date_type_avg_item_cnt_lag_1  date_subtype_avg_item_cnt_lag_1  \\\n",
       "4488756                       1.03418                         1.075195   \n",
       "4488757                       0.27002                         0.291504   \n",
       "4488758                       0.27002                         0.234009   \n",
       "4488759                       0.27002                         0.291504   \n",
       "4488760                       0.27002                         0.234009   \n",
       "\n",
       "         delta_price_lag  month  days  item_shop_last_sale  item_last_sale  \\\n",
       "4488756        -0.282715    0.0  31.0                  1.0             1.0   \n",
       "4488757        -0.483398    0.0  31.0                  1.0             1.0   \n",
       "4488758        -0.137451    0.0  31.0                  1.0             1.0   \n",
       "4488759        -0.407227    0.0  31.0                 -1.0             1.0   \n",
       "4488760        -0.225464    0.0  31.0                  1.0             1.0   \n",
       "\n",
       "         item_shop_first_sale  item_first_sale  \n",
       "4488756                  12.0             12.0  \n",
       "4488757                  11.0             11.0  \n",
       "4488758                  11.0             11.0  \n",
       "4488759                  12.0             12.0  \n",
       "4488760                  12.0             12.0  \n",
       "\n",
       "[5 rows x 41 columns]"
      ],
      "text/html": "<div>\n<style scoped>\n    .dataframe tbody tr th:only-of-type {\n        vertical-align: middle;\n    }\n\n    .dataframe tbody tr th {\n        vertical-align: top;\n    }\n\n    .dataframe thead th {\n        text-align: right;\n    }\n</style>\n<table border=\"1\" class=\"dataframe\">\n  <thead>\n    <tr style=\"text-align: right;\">\n      <th></th>\n      <th>date_block_num</th>\n      <th>shop_id</th>\n      <th>shop_category</th>\n      <th>item_id</th>\n      <th>city_code</th>\n      <th>item_category_id</th>\n      <th>type_code</th>\n      <th>subtype_code</th>\n      <th>item_cnt_month_lag_1</th>\n      <th>item_cnt_month_lag_2</th>\n      <th>...</th>\n      <th>date_item_city_avg_item_cnt_lag_1</th>\n      <th>date_type_avg_item_cnt_lag_1</th>\n      <th>date_subtype_avg_item_cnt_lag_1</th>\n      <th>delta_price_lag</th>\n      <th>month</th>\n      <th>days</th>\n      <th>item_shop_last_sale</th>\n      <th>item_last_sale</th>\n      <th>item_shop_first_sale</th>\n      <th>item_first_sale</th>\n    </tr>\n  </thead>\n  <tbody>\n    <tr>\n      <th>4488756</th>\n      <td>12</td>\n      <td>2</td>\n      <td>1</td>\n      <td>27</td>\n      <td>0</td>\n      <td>19</td>\n      <td>5</td>\n      <td>10</td>\n      <td>0.0</td>\n      <td>0.0</td>\n      <td>...</td>\n      <td>0.0</td>\n      <td>1.03418</td>\n      <td>1.075195</td>\n      <td>-0.282715</td>\n      <td>0.0</td>\n      <td>31.0</td>\n      <td>1.0</td>\n      <td>1.0</td>\n      <td>12.0</td>\n      <td>12.0</td>\n    </tr>\n    <tr>\n      <th>4488757</th>\n      <td>12</td>\n      <td>2</td>\n      <td>1</td>\n      <td>30</td>\n      <td>0</td>\n      <td>40</td>\n      <td>11</td>\n      <td>4</td>\n      <td>0.0</td>\n      <td>0.0</td>\n      <td>...</td>\n      <td>0.0</td>\n      <td>0.27002</td>\n      <td>0.291504</td>\n      <td>-0.483398</td>\n      <td>0.0</td>\n      <td>31.0</td>\n      <td>1.0</td>\n      <td>1.0</td>\n      <td>11.0</td>\n      <td>11.0</td>\n    </tr>\n    <tr>\n      <th>4488758</th>\n      <td>12</td>\n      <td>2</td>\n      <td>1</td>\n      <td>31</td>\n      <td>0</td>\n      <td>37</td>\n      <td>11</td>\n      <td>1</td>\n      <td>0.0</td>\n      <td>0.0</td>\n      <td>...</td>\n      <td>0.0</td>\n      <td>0.27002</td>\n      <td>0.234009</td>\n      <td>-0.137451</td>\n      <td>0.0</td>\n      <td>31.0</td>\n      <td>1.0</td>\n      <td>1.0</td>\n      <td>11.0</td>\n      <td>11.0</td>\n    </tr>\n    <tr>\n      <th>4488759</th>\n      <td>12</td>\n      <td>2</td>\n      <td>1</td>\n      <td>32</td>\n      <td>0</td>\n      <td>40</td>\n      <td>11</td>\n      <td>4</td>\n      <td>0.0</td>\n      <td>0.0</td>\n      <td>...</td>\n      <td>0.0</td>\n      <td>0.27002</td>\n      <td>0.291504</td>\n      <td>-0.407227</td>\n      <td>0.0</td>\n      <td>31.0</td>\n      <td>-1.0</td>\n      <td>1.0</td>\n      <td>12.0</td>\n      <td>12.0</td>\n    </tr>\n    <tr>\n      <th>4488760</th>\n      <td>12</td>\n      <td>2</td>\n      <td>1</td>\n      <td>33</td>\n      <td>0</td>\n      <td>37</td>\n      <td>11</td>\n      <td>1</td>\n      <td>1.0</td>\n      <td>2.0</td>\n      <td>...</td>\n      <td>1.0</td>\n      <td>0.27002</td>\n      <td>0.234009</td>\n      <td>-0.225464</td>\n      <td>0.0</td>\n      <td>31.0</td>\n      <td>1.0</td>\n      <td>1.0</td>\n      <td>12.0</td>\n      <td>12.0</td>\n    </tr>\n  </tbody>\n</table>\n<p>5 rows × 41 columns</p>\n</div>"
     },
     "metadata": {},
     "execution_count": 7
    }
   ],
   "source": [
    "X_train.head()"
   ]
  },
  {
   "cell_type": "code",
   "execution_count": 8,
   "metadata": {},
   "outputs": [],
   "source": [
    "X_train['date_block_num'] = X_train['date_block_num'].astype(np.str)\n",
    "X_valid['date_block_num'] = X_valid['date_block_num'].astype(np.str)\n",
    "X_test['date_block_num'] = X_test['date_block_num'].astype(np.str)"
   ]
  },
  {
   "cell_type": "code",
   "execution_count": 9,
   "metadata": {},
   "outputs": [
    {
     "output_type": "execute_result",
     "data": {
      "text/plain": [
       "[0, 1, 2, 3, 4, 5, 6, 7]"
      ]
     },
     "metadata": {},
     "execution_count": 9
    }
   ],
   "source": [
    "# Set categoru factors\n",
    "categorical = list(range(0, 8))\n",
    "categorical"
   ]
  },
  {
   "cell_type": "code",
   "execution_count": 10,
   "metadata": {},
   "outputs": [],
   "source": [
    "# Clean env\n",
    "del data\n",
    "gc.collect();"
   ]
  },
  {
   "cell_type": "code",
   "execution_count": 11,
   "metadata": {},
   "outputs": [
    {
     "output_type": "stream",
     "name": "stdout",
     "text": [
      "0:\tlearn: 1.1735522\ttest: 1.1256212\tbest: 1.1256212 (0)\ttotal: 11.5s\tremaining: 18m 54s\n",
      "1:\tlearn: 1.1595417\ttest: 1.1150753\tbest: 1.1150753 (1)\ttotal: 21.5s\tremaining: 17m 35s\n",
      "2:\tlearn: 1.1462353\ttest: 1.1050506\tbest: 1.1050506 (2)\ttotal: 32s\tremaining: 17m 15s\n",
      "3:\tlearn: 1.1334351\ttest: 1.0963428\tbest: 1.0963428 (3)\ttotal: 39.6s\tremaining: 15m 51s\n",
      "4:\tlearn: 1.1211907\ttest: 1.0875921\tbest: 1.0875921 (4)\ttotal: 44.9s\tremaining: 14m 12s\n",
      "5:\tlearn: 1.1096730\ttest: 1.0795755\tbest: 1.0795755 (5)\ttotal: 50.3s\tremaining: 13m 8s\n",
      "6:\tlearn: 1.0985589\ttest: 1.0717394\tbest: 1.0717394 (6)\ttotal: 55.7s\tremaining: 12m 20s\n",
      "7:\tlearn: 1.0877875\ttest: 1.0642817\tbest: 1.0642817 (7)\ttotal: 1m\tremaining: 11m 38s\n",
      "8:\tlearn: 1.0775601\ttest: 1.0571560\tbest: 1.0571560 (8)\ttotal: 1m 5s\tremaining: 11m 5s\n",
      "9:\tlearn: 1.0677313\ttest: 1.0500145\tbest: 1.0500145 (9)\ttotal: 1m 10s\tremaining: 10m 33s\n",
      "10:\tlearn: 1.0585658\ttest: 1.0437742\tbest: 1.0437742 (10)\ttotal: 1m 15s\tremaining: 10m 7s\n",
      "11:\tlearn: 1.0496257\ttest: 1.0372003\tbest: 1.0372003 (11)\ttotal: 1m 19s\tremaining: 9m 46s\n",
      "12:\tlearn: 1.0411842\ttest: 1.0308195\tbest: 1.0308195 (12)\ttotal: 1m 25s\tremaining: 9m 34s\n",
      "13:\tlearn: 1.0330475\ttest: 1.0253525\tbest: 1.0253525 (13)\ttotal: 1m 31s\tremaining: 9m 19s\n",
      "14:\tlearn: 1.0253152\ttest: 1.0200383\tbest: 1.0200383 (14)\ttotal: 1m 36s\tremaining: 9m 6s\n",
      "15:\tlearn: 1.0178923\ttest: 1.0151851\tbest: 1.0151851 (15)\ttotal: 1m 41s\tremaining: 8m 50s\n",
      "16:\tlearn: 1.0107732\ttest: 1.0100407\tbest: 1.0100407 (16)\ttotal: 1m 45s\tremaining: 8m 35s\n",
      "17:\tlearn: 1.0039349\ttest: 1.0054342\tbest: 1.0054342 (17)\ttotal: 1m 50s\tremaining: 8m 22s\n",
      "18:\tlearn: 0.9974503\ttest: 1.0011880\tbest: 1.0011880 (18)\ttotal: 1m 55s\tremaining: 8m 10s\n",
      "19:\tlearn: 0.9912904\ttest: 0.9974632\tbest: 0.9974632 (19)\ttotal: 1m 59s\tremaining: 7m 59s\n",
      "20:\tlearn: 0.9854034\ttest: 0.9940576\tbest: 0.9940576 (20)\ttotal: 2m 4s\tremaining: 7m 48s\n",
      "21:\tlearn: 0.9797967\ttest: 0.9900566\tbest: 0.9900566 (21)\ttotal: 2m 9s\tremaining: 7m 39s\n",
      "22:\tlearn: 0.9744130\ttest: 0.9868245\tbest: 0.9868245 (22)\ttotal: 2m 14s\tremaining: 7m 31s\n",
      "23:\tlearn: 0.9693276\ttest: 0.9838371\tbest: 0.9838371 (23)\ttotal: 2m 19s\tremaining: 7m 23s\n",
      "24:\tlearn: 0.9643637\ttest: 0.9805909\tbest: 0.9805909 (24)\ttotal: 2m 24s\tremaining: 7m 14s\n",
      "25:\tlearn: 0.9597256\ttest: 0.9775094\tbest: 0.9775094 (25)\ttotal: 2m 29s\tremaining: 7m 4s\n",
      "26:\tlearn: 0.9552813\ttest: 0.9747519\tbest: 0.9747519 (26)\ttotal: 2m 33s\tremaining: 6m 55s\n",
      "27:\tlearn: 0.9508730\ttest: 0.9722584\tbest: 0.9722584 (27)\ttotal: 2m 37s\tremaining: 6m 45s\n",
      "28:\tlearn: 0.9468233\ttest: 0.9698823\tbest: 0.9698823 (28)\ttotal: 2m 42s\tremaining: 6m 37s\n",
      "29:\tlearn: 0.9428704\ttest: 0.9674726\tbest: 0.9674726 (29)\ttotal: 2m 46s\tremaining: 6m 28s\n",
      "30:\tlearn: 0.9391278\ttest: 0.9654076\tbest: 0.9654076 (30)\ttotal: 2m 50s\tremaining: 6m 20s\n",
      "31:\tlearn: 0.9356451\ttest: 0.9633272\tbest: 0.9633272 (31)\ttotal: 2m 55s\tremaining: 6m 12s\n",
      "32:\tlearn: 0.9322514\ttest: 0.9611072\tbest: 0.9611072 (32)\ttotal: 2m 59s\tremaining: 6m 4s\n",
      "33:\tlearn: 0.9289714\ttest: 0.9589447\tbest: 0.9589447 (33)\ttotal: 3m 3s\tremaining: 5m 56s\n",
      "34:\tlearn: 0.9259193\ttest: 0.9570004\tbest: 0.9570004 (34)\ttotal: 3m 8s\tremaining: 5m 49s\n",
      "35:\tlearn: 0.9230666\ttest: 0.9555054\tbest: 0.9555054 (35)\ttotal: 3m 12s\tremaining: 5m 41s\n",
      "36:\tlearn: 0.9203728\ttest: 0.9541637\tbest: 0.9541637 (36)\ttotal: 3m 16s\tremaining: 5m 34s\n",
      "37:\tlearn: 0.9177185\ttest: 0.9526326\tbest: 0.9526326 (37)\ttotal: 3m 21s\tremaining: 5m 28s\n",
      "38:\tlearn: 0.9151598\ttest: 0.9513269\tbest: 0.9513269 (38)\ttotal: 3m 25s\tremaining: 5m 21s\n",
      "39:\tlearn: 0.9125369\ttest: 0.9496835\tbest: 0.9496835 (39)\ttotal: 3m 29s\tremaining: 5m 14s\n",
      "40:\tlearn: 0.9101232\ttest: 0.9483135\tbest: 0.9483135 (40)\ttotal: 3m 33s\tremaining: 5m 7s\n",
      "41:\tlearn: 0.9077438\ttest: 0.9469050\tbest: 0.9469050 (41)\ttotal: 3m 38s\tremaining: 5m 2s\n",
      "42:\tlearn: 0.9054534\ttest: 0.9456446\tbest: 0.9456446 (42)\ttotal: 3m 43s\tremaining: 4m 56s\n",
      "43:\tlearn: 0.9032812\ttest: 0.9442874\tbest: 0.9442874 (43)\ttotal: 3m 50s\tremaining: 4m 53s\n",
      "44:\tlearn: 0.9012262\ttest: 0.9430487\tbest: 0.9430487 (44)\ttotal: 3m 56s\tremaining: 4m 49s\n",
      "45:\tlearn: 0.8992150\ttest: 0.9418497\tbest: 0.9418497 (45)\ttotal: 4m 2s\tremaining: 4m 44s\n",
      "46:\tlearn: 0.8974309\ttest: 0.9408572\tbest: 0.9408572 (46)\ttotal: 4m 8s\tremaining: 4m 40s\n",
      "47:\tlearn: 0.8956741\ttest: 0.9400482\tbest: 0.9400482 (47)\ttotal: 4m 14s\tremaining: 4m 35s\n",
      "48:\tlearn: 0.8940131\ttest: 0.9392612\tbest: 0.9392612 (48)\ttotal: 4m 19s\tremaining: 4m 29s\n",
      "49:\tlearn: 0.8923137\ttest: 0.9380737\tbest: 0.9380737 (49)\ttotal: 4m 24s\tremaining: 4m 24s\n",
      "50:\tlearn: 0.8906086\ttest: 0.9374427\tbest: 0.9374427 (50)\ttotal: 4m 30s\tremaining: 4m 20s\n",
      "51:\tlearn: 0.8890840\ttest: 0.9366110\tbest: 0.9366110 (51)\ttotal: 4m 37s\tremaining: 4m 16s\n",
      "52:\tlearn: 0.8877506\ttest: 0.9360071\tbest: 0.9360071 (52)\ttotal: 4m 43s\tremaining: 4m 11s\n",
      "53:\tlearn: 0.8863454\ttest: 0.9353193\tbest: 0.9353193 (53)\ttotal: 4m 48s\tremaining: 4m 5s\n",
      "54:\tlearn: 0.8849030\ttest: 0.9345599\tbest: 0.9345599 (54)\ttotal: 4m 53s\tremaining: 4m\n",
      "55:\tlearn: 0.8817658\ttest: 0.9340517\tbest: 0.9340517 (55)\ttotal: 5m\tremaining: 3m 56s\n",
      "56:\tlearn: 0.8780906\ttest: 0.9337250\tbest: 0.9337250 (56)\ttotal: 5m 6s\tremaining: 3m 51s\n",
      "57:\tlearn: 0.8745924\ttest: 0.9334685\tbest: 0.9334685 (57)\ttotal: 5m 12s\tremaining: 3m 46s\n",
      "58:\tlearn: 0.8712392\ttest: 0.9333196\tbest: 0.9333196 (58)\ttotal: 5m 17s\tremaining: 3m 40s\n",
      "59:\tlearn: 0.8680683\ttest: 0.9329932\tbest: 0.9329932 (59)\ttotal: 5m 23s\tremaining: 3m 35s\n",
      "60:\tlearn: 0.8650539\ttest: 0.9328016\tbest: 0.9328016 (60)\ttotal: 5m 29s\tremaining: 3m 30s\n",
      "61:\tlearn: 0.8622183\ttest: 0.9328078\tbest: 0.9328016 (60)\ttotal: 5m 35s\tremaining: 3m 25s\n",
      "62:\tlearn: 0.8594371\ttest: 0.9325669\tbest: 0.9325669 (62)\ttotal: 5m 42s\tremaining: 3m 20s\n",
      "63:\tlearn: 0.8568763\ttest: 0.9324473\tbest: 0.9324473 (63)\ttotal: 5m 47s\tremaining: 3m 15s\n",
      "64:\tlearn: 0.8544246\ttest: 0.9322472\tbest: 0.9322472 (64)\ttotal: 5m 54s\tremaining: 3m 10s\n",
      "65:\tlearn: 0.8519886\ttest: 0.9322173\tbest: 0.9322173 (65)\ttotal: 6m\tremaining: 3m 5s\n",
      "66:\tlearn: 0.8497270\ttest: 0.9323654\tbest: 0.9322173 (65)\ttotal: 6m 6s\tremaining: 3m\n",
      "67:\tlearn: 0.8475237\ttest: 0.9321549\tbest: 0.9321549 (67)\ttotal: 6m 12s\tremaining: 2m 55s\n",
      "68:\tlearn: 0.8454647\ttest: 0.9320793\tbest: 0.9320793 (68)\ttotal: 6m 18s\tremaining: 2m 49s\n",
      "69:\tlearn: 0.8434575\ttest: 0.9321904\tbest: 0.9320793 (68)\ttotal: 6m 23s\tremaining: 2m 44s\n",
      "70:\tlearn: 0.8416193\ttest: 0.9321196\tbest: 0.9320793 (68)\ttotal: 6m 29s\tremaining: 2m 39s\n",
      "71:\tlearn: 0.8398307\ttest: 0.9320287\tbest: 0.9320287 (71)\ttotal: 6m 35s\tremaining: 2m 33s\n",
      "72:\tlearn: 0.8380804\ttest: 0.9319238\tbest: 0.9319238 (72)\ttotal: 6m 42s\tremaining: 2m 28s\n",
      "73:\tlearn: 0.8362850\ttest: 0.9320716\tbest: 0.9319238 (72)\ttotal: 6m 48s\tremaining: 2m 23s\n",
      "74:\tlearn: 0.8346695\ttest: 0.9322013\tbest: 0.9319238 (72)\ttotal: 6m 53s\tremaining: 2m 17s\n",
      "75:\tlearn: 0.8330984\ttest: 0.9321516\tbest: 0.9319238 (72)\ttotal: 6m 59s\tremaining: 2m 12s\n",
      "76:\tlearn: 0.8315770\ttest: 0.9320407\tbest: 0.9319238 (72)\ttotal: 7m 5s\tremaining: 2m 7s\n",
      "77:\tlearn: 0.8301254\ttest: 0.9320470\tbest: 0.9319238 (72)\ttotal: 7m 11s\tremaining: 2m 1s\n",
      "78:\tlearn: 0.8287732\ttest: 0.9320839\tbest: 0.9319238 (72)\ttotal: 7m 17s\tremaining: 1m 56s\n",
      "79:\tlearn: 0.8274395\ttest: 0.9320876\tbest: 0.9319238 (72)\ttotal: 7m 23s\tremaining: 1m 50s\n",
      "80:\tlearn: 0.8262031\ttest: 0.9321548\tbest: 0.9319238 (72)\ttotal: 7m 29s\tremaining: 1m 45s\n",
      "81:\tlearn: 0.8248412\ttest: 0.9322180\tbest: 0.9319238 (72)\ttotal: 7m 35s\tremaining: 1m 39s\n",
      "82:\tlearn: 0.8236101\ttest: 0.9324310\tbest: 0.9319238 (72)\ttotal: 7m 40s\tremaining: 1m 34s\n",
      "83:\tlearn: 0.8225097\ttest: 0.9325007\tbest: 0.9319238 (72)\ttotal: 7m 46s\tremaining: 1m 28s\n",
      "84:\tlearn: 0.8213228\ttest: 0.9326416\tbest: 0.9319238 (72)\ttotal: 7m 51s\tremaining: 1m 23s\n",
      "85:\tlearn: 0.8203063\ttest: 0.9328018\tbest: 0.9319238 (72)\ttotal: 7m 57s\tremaining: 1m 17s\n",
      "86:\tlearn: 0.8191932\ttest: 0.9330347\tbest: 0.9319238 (72)\ttotal: 8m 2s\tremaining: 1m 12s\n",
      "87:\tlearn: 0.8181047\ttest: 0.9331989\tbest: 0.9319238 (72)\ttotal: 8m 7s\tremaining: 1m 6s\n",
      "88:\tlearn: 0.8171034\ttest: 0.9335406\tbest: 0.9319238 (72)\ttotal: 8m 12s\tremaining: 1m\n",
      "89:\tlearn: 0.8161569\ttest: 0.9337267\tbest: 0.9319238 (72)\ttotal: 8m 18s\tremaining: 55.3s\n",
      "90:\tlearn: 0.8151661\ttest: 0.9337794\tbest: 0.9319238 (72)\ttotal: 8m 23s\tremaining: 49.8s\n",
      "91:\tlearn: 0.8142384\ttest: 0.9338919\tbest: 0.9319238 (72)\ttotal: 8m 29s\tremaining: 44.3s\n",
      "92:\tlearn: 0.8133968\ttest: 0.9341906\tbest: 0.9319238 (72)\ttotal: 8m 35s\tremaining: 38.8s\n",
      "93:\tlearn: 0.8125732\ttest: 0.9343064\tbest: 0.9319238 (72)\ttotal: 8m 40s\tremaining: 33.2s\n",
      "94:\tlearn: 0.8117473\ttest: 0.9342322\tbest: 0.9319238 (72)\ttotal: 8m 45s\tremaining: 27.7s\n",
      "95:\tlearn: 0.8109818\ttest: 0.9345415\tbest: 0.9319238 (72)\ttotal: 8m 50s\tremaining: 22.1s\n",
      "96:\tlearn: 0.8102252\ttest: 0.9348161\tbest: 0.9319238 (72)\ttotal: 8m 56s\tremaining: 16.6s\n",
      "97:\tlearn: 0.8094794\ttest: 0.9350355\tbest: 0.9319238 (72)\ttotal: 9m 1s\tremaining: 11s\n",
      "98:\tlearn: 0.8087603\ttest: 0.9352120\tbest: 0.9319238 (72)\ttotal: 9m 6s\tremaining: 5.52s\n",
      "99:\tlearn: 0.8080683\ttest: 0.9355179\tbest: 0.9319238 (72)\ttotal: 9m 11s\tremaining: 0us\n",
      "\n",
      "bestTest = 0.9319238395\n",
      "bestIteration = 72\n",
      "\n",
      "Shrink model to first 73 iterations.\n"
     ]
    },
    {
     "output_type": "execute_result",
     "data": {
      "text/plain": [
       "<catboost.core.CatBoostRegressor at 0x21dca90ca00>"
      ]
     },
     "metadata": {},
     "execution_count": 11
    }
   ],
   "source": [
    "# Train\n",
    "model=CatBoostRegressor(iterations=100, depth=10, learning_rate=0.03, loss_function='RMSE')\n",
    "model.fit(X_train, Y_train, cat_features = categorical, eval_set=(X_valid, Y_valid))"
   ]
  },
  {
   "cell_type": "code",
   "execution_count": 12,
   "metadata": {},
   "outputs": [],
   "source": [
    "Y_test = model.predict(X_test).clip(0, 20)\n",
    "\n",
    "submission = pd.DataFrame({\n",
    "    \"ID\": test.index, \n",
    "    \"item_cnt_month\": Y_test\n",
    "})\n",
    "submission.to_csv(r'D:\\Project\\Pet_Project\\Demand_Forecast\\Results\\catboost.csv', index=False)"
   ]
  },
  {
   "cell_type": "code",
   "execution_count": null,
   "metadata": {},
   "outputs": [],
   "source": []
  }
 ]
}